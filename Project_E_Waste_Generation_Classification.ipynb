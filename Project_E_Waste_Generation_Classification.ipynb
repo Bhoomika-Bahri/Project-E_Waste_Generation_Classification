{
  "nbformat": 4,
  "nbformat_minor": 0,
  "metadata": {
    "colab": {
      "provenance": [],
      "authorship_tag": "ABX9TyNugFbzt3nv6JbCOWm6iapr"
    },
    "kernelspec": {
      "name": "python3",
      "display_name": "Python 3"
    },
    "language_info": {
      "name": "python"
    }
  },
  "cells": [
    {
      "cell_type": "code",
      "execution_count": 2,
      "metadata": {
        "id": "g6w6DgfV5RzF"
      },
      "outputs": [],
      "source": [
        "import tensorflow as tf  # Core TensorFlow library\n",
        "\n",
        "# Layers, model creation, optimizers, and training callbacks\n",
        "from tensorflow.keras import layers, models, optimizers, callbacks\n",
        "\n",
        "# For sequential model architecture and loading saved models\n",
        "from tensorflow.keras.models import Sequential, load_model\n",
        "\n",
        "# Pretrained EfficientNetV2B0 model for transfer learning\n",
        "from tensorflow.keras.applications import EfficientNetV2B0\n",
        "\n",
        "# Preprocessing function specific to EfficientNet\n",
        "from tensorflow.keras.applications.efficientnet import preprocess_input"
      ]
    },
    {
      "cell_type": "code",
      "source": [
        "# Numerical operations and array handling\n",
        "import numpy as np"
      ],
      "metadata": {
        "id": "4dgtdL_S5Zu8"
      },
      "execution_count": 3,
      "outputs": []
    },
    {
      "cell_type": "code",
      "source": [
        "# Plotting graphs and images\n",
        "import matplotlib.pyplot as plt\n",
        "import seaborn as sns"
      ],
      "metadata": {
        "id": "3Y_wPgwH5Z9J"
      },
      "execution_count": 4,
      "outputs": []
    },
    {
      "cell_type": "code",
      "source": [
        "# Evaluation metrics for classification models\n",
        "from sklearn.metrics import confusion_matrix, classification_report"
      ],
      "metadata": {
        "id": "yceY9Zb55aIv"
      },
      "execution_count": 5,
      "outputs": []
    },
    {
      "cell_type": "code",
      "source": [
        "# Web interface library to deploy and test ML models\n",
        "import gradio as gr"
      ],
      "metadata": {
        "id": "QIJ7qBAm6G9v"
      },
      "execution_count": 6,
      "outputs": []
    },
    {
      "cell_type": "code",
      "source": [
        "# For image file loading and basic image operations\n",
        "from PIL import Image"
      ],
      "metadata": {
        "id": "G_CMeSiz6NdB"
      },
      "execution_count": 8,
      "outputs": []
    }
  ]
}